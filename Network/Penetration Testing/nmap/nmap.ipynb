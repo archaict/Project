{
 "cells": [
  {
   "cell_type": "code",
   "execution_count": 1,
   "metadata": {
    "hide_input": false
   },
   "outputs": [],
   "source": [
    "import os\n",
    "import sys\n",
    "import nmap\n",
    "import pandas as pd\n",
    "from io import StringIO\n",
    "import numpy as np"
   ]
  },
  {
   "cell_type": "code",
   "execution_count": 2,
   "metadata": {},
   "outputs": [],
   "source": [
    "ip_addr = '192.168.56.103'\n",
    "#ip_addr = input('IP Address: ')"
   ]
  },
  {
   "cell_type": "code",
   "execution_count": 3,
   "metadata": {},
   "outputs": [],
   "source": [
    "nm = nmap.PortScanner()\n",
    "nm.scan(hosts=ip_addr,ports='1-65535',arguments='-O -sV -T4')\n",
    "hosts=nm.all_hosts()"
   ]
  },
  {
   "cell_type": "code",
   "execution_count": 4,
   "metadata": {},
   "outputs": [],
   "source": [
    "recon = nm.csv()"
   ]
  },
  {
   "cell_type": "code",
   "execution_count": 5,
   "metadata": {},
   "outputs": [],
   "source": [
    "recon = StringIO(nm.csv())\n",
    "df = pd.read_csv(recon, header=0, sep=';')"
   ]
  },
  {
   "cell_type": "code",
   "execution_count": 6,
   "metadata": {},
   "outputs": [],
   "source": [
    "plist = pd.read_csv('content/csv/tcp.csv')\n",
    "plist = plist.drop_duplicates()"
   ]
  },
  {
   "cell_type": "code",
   "execution_count": 7,
   "metadata": {},
   "outputs": [],
   "source": [
    "df = pd.merge(plist, df, on=['port'])\n",
    "df = df.fillna(0)\n",
    "df = df[['host', 'hostname', 'port', 'name', 'description',\n",
    "         'product', 'extrainfo', 'reason', 'version', 'cpe']]"
   ]
  },
  {
   "cell_type": "code",
   "execution_count": 8,
   "metadata": {},
   "outputs": [],
   "source": [
    "df.to_csv('content/csv/'+ip_addr+'.csv')"
   ]
  },
  {
   "cell_type": "code",
   "execution_count": 9,
   "metadata": {
    "scrolled": true
   },
   "outputs": [
    {
     "data": {
      "text/html": [
       "<div>\n",
       "<style scoped>\n",
       "    .dataframe tbody tr th:only-of-type {\n",
       "        vertical-align: middle;\n",
       "    }\n",
       "\n",
       "    .dataframe tbody tr th {\n",
       "        vertical-align: top;\n",
       "    }\n",
       "\n",
       "    .dataframe thead th {\n",
       "        text-align: right;\n",
       "    }\n",
       "</style>\n",
       "<table border=\"1\" class=\"dataframe\">\n",
       "  <thead>\n",
       "    <tr style=\"text-align: right;\">\n",
       "      <th></th>\n",
       "      <th>host</th>\n",
       "      <th>hostname</th>\n",
       "      <th>port</th>\n",
       "      <th>name</th>\n",
       "      <th>description</th>\n",
       "      <th>product</th>\n",
       "      <th>extrainfo</th>\n",
       "      <th>reason</th>\n",
       "      <th>version</th>\n",
       "      <th>cpe</th>\n",
       "    </tr>\n",
       "  </thead>\n",
       "  <tbody>\n",
       "    <tr>\n",
       "      <th>0</th>\n",
       "      <td>192.168.56.103</td>\n",
       "      <td>192.168.56.103</td>\n",
       "      <td>21</td>\n",
       "      <td>ftp</td>\n",
       "      <td>File Transfer [Control]</td>\n",
       "      <td>vsftpd</td>\n",
       "      <td>0</td>\n",
       "      <td>syn-ack</td>\n",
       "      <td>2.3.4</td>\n",
       "      <td>cpe:/a:vsftpd:vsftpd:2.3.4</td>\n",
       "    </tr>\n",
       "    <tr>\n",
       "      <th>1</th>\n",
       "      <td>192.168.56.103</td>\n",
       "      <td>192.168.56.103</td>\n",
       "      <td>22</td>\n",
       "      <td>ssh</td>\n",
       "      <td>SSH Remote Login Protocol</td>\n",
       "      <td>OpenSSH</td>\n",
       "      <td>protocol 2.0</td>\n",
       "      <td>syn-ack</td>\n",
       "      <td>4.7p1 Debian 8ubuntu1</td>\n",
       "      <td>cpe:/o:linux:linux_kernel</td>\n",
       "    </tr>\n",
       "    <tr>\n",
       "      <th>2</th>\n",
       "      <td>192.168.56.103</td>\n",
       "      <td>192.168.56.103</td>\n",
       "      <td>23</td>\n",
       "      <td>telnet</td>\n",
       "      <td>Telnet</td>\n",
       "      <td>Linux telnetd</td>\n",
       "      <td>0</td>\n",
       "      <td>syn-ack</td>\n",
       "      <td>0</td>\n",
       "      <td>cpe:/o:linux:linux_kernel</td>\n",
       "    </tr>\n",
       "    <tr>\n",
       "      <th>3</th>\n",
       "      <td>192.168.56.103</td>\n",
       "      <td>192.168.56.103</td>\n",
       "      <td>25</td>\n",
       "      <td>smtp</td>\n",
       "      <td>Simple Mail Transfer</td>\n",
       "      <td>Postfix smtpd</td>\n",
       "      <td>0</td>\n",
       "      <td>syn-ack</td>\n",
       "      <td>0</td>\n",
       "      <td>cpe:/a:postfix:postfix</td>\n",
       "    </tr>\n",
       "    <tr>\n",
       "      <th>4</th>\n",
       "      <td>192.168.56.103</td>\n",
       "      <td>192.168.56.103</td>\n",
       "      <td>53</td>\n",
       "      <td>domain</td>\n",
       "      <td>Domain Name Server</td>\n",
       "      <td>ISC BIND</td>\n",
       "      <td>0</td>\n",
       "      <td>syn-ack</td>\n",
       "      <td>9.4.2</td>\n",
       "      <td>cpe:/a:isc:bind:9.4.2</td>\n",
       "    </tr>\n",
       "  </tbody>\n",
       "</table>\n",
       "</div>"
      ],
      "text/plain": [
       "             host        hostname  port    name                description  \\\n",
       "0  192.168.56.103  192.168.56.103    21     ftp    File Transfer [Control]   \n",
       "1  192.168.56.103  192.168.56.103    22     ssh  SSH Remote Login Protocol   \n",
       "2  192.168.56.103  192.168.56.103    23  telnet                     Telnet   \n",
       "3  192.168.56.103  192.168.56.103    25    smtp       Simple Mail Transfer   \n",
       "4  192.168.56.103  192.168.56.103    53  domain         Domain Name Server   \n",
       "\n",
       "         product     extrainfo   reason                version  \\\n",
       "0         vsftpd             0  syn-ack                  2.3.4   \n",
       "1        OpenSSH  protocol 2.0  syn-ack  4.7p1 Debian 8ubuntu1   \n",
       "2  Linux telnetd             0  syn-ack                      0   \n",
       "3  Postfix smtpd             0  syn-ack                      0   \n",
       "4       ISC BIND             0  syn-ack                  9.4.2   \n",
       "\n",
       "                          cpe  \n",
       "0  cpe:/a:vsftpd:vsftpd:2.3.4  \n",
       "1   cpe:/o:linux:linux_kernel  \n",
       "2   cpe:/o:linux:linux_kernel  \n",
       "3      cpe:/a:postfix:postfix  \n",
       "4       cpe:/a:isc:bind:9.4.2  "
      ]
     },
     "execution_count": 9,
     "metadata": {},
     "output_type": "execute_result"
    }
   ],
   "source": [
    "df.head()"
   ]
  }
 ],
 "metadata": {
  "hide_input": false,
  "kernelspec": {
   "display_name": "Python 3",
   "language": "python",
   "name": "python3"
  },
  "language_info": {
   "codemirror_mode": {
    "name": "ipython",
    "version": 3
   },
   "file_extension": ".py",
   "mimetype": "text/x-python",
   "name": "python",
   "nbconvert_exporter": "python",
   "pygments_lexer": "ipython3",
   "version": "3.8.5"
  }
 },
 "nbformat": 4,
 "nbformat_minor": 4
}
