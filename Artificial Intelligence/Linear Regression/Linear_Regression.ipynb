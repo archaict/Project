{
  "nbformat": 4,
  "nbformat_minor": 0,
  "metadata": {
    "colab": {
      "name": "Linear_Regression.ipynb",
      "provenance": [],
      "collapsed_sections": []
    },
    "kernelspec": {
      "name": "python3",
      "display_name": "Python 3"
    },
    "language_info": {
      "name": "python"
    }
  },
  "cells": [
    {
      "cell_type": "markdown",
      "metadata": {
        "id": "4yRQvCVTcGfY"
      },
      "source": [
        "# Linear Regression\n",
        "\n",
        "If your installation doesn’t have numpy or statsmodel, you might want to install it using command below. It is already installed in Google Colab, but you might want to install it if you want to use it on local."
      ]
    },
    {
      "cell_type": "code",
      "metadata": {
        "id": "pMMyfuA1cFm9"
      },
      "source": [
        "pip install numpy\n",
        "pip install statsmodels\n",
        "pip install matplotlib"
      ],
      "execution_count": null,
      "outputs": []
    },
    {
      "cell_type": "markdown",
      "metadata": {
        "id": "VKaJvDMqcZpO"
      },
      "source": [
        "Import stuff that are needed for this project. For this project we use numpy, matplotlib, and statsmodel to help with the statistics."
      ]
    },
    {
      "cell_type": "code",
      "metadata": {
        "id": "ccW5KpUeXHYa"
      },
      "source": [
        "import numpy as np\n",
        "import matplotlib.pyplot as plt\n",
        "import statsmodels.api as sm\n",
        "%matplotlib inline"
      ],
      "execution_count": null,
      "outputs": []
    },
    {
      "cell_type": "markdown",
      "metadata": {
        "id": "VXucreJGcewb"
      },
      "source": [
        "Example of using array as data, since it is possible to create the data itself as an array, we can use dummy data for calculations."
      ]
    },
    {
      "cell_type": "code",
      "metadata": {
        "id": "ryixbP0GXK6g"
      },
      "source": [
        "\n",
        "x = [[2, 3], [2, 5], [20, 8], [44, 2], [22, 84], [28, 18], [20, 18], [20, 17]]\n",
        "y = [8, 15, 22, 24, 25, 20, 48, 23]\n",
        "x, y = np.array(x), np.array(y)\n"
      ],
      "execution_count": null,
      "outputs": []
    },
    {
      "cell_type": "markdown",
      "metadata": {
        "id": "xRr_FTuvcfhG"
      },
      "source": [
        "Fitting all the model and add constant for X and create models using statsmodel."
      ]
    },
    {
      "cell_type": "code",
      "metadata": {
        "id": "gLgmfdyCXNEV"
      },
      "source": [
        "x = sm.add_constant(x)\n",
        "model = sm.OLS(y, x)"
      ],
      "execution_count": null,
      "outputs": []
    },
    {
      "cell_type": "markdown",
      "metadata": {
        "id": "FSJAPwcwcidC"
      },
      "source": [
        "This model that already fitted then printed and represented as visualization and statsmodel. And this is the result from the test:"
      ]
    },
    {
      "cell_type": "code",
      "metadata": {
        "colab": {
          "base_uri": "https://localhost:8080/"
        },
        "id": "Sa1lw5xtXVHq",
        "outputId": "e04f4423-da18-4395-b00c-4378db39a316"
      },
      "source": [
        "results = model.fit()\n",
        "print(results.summary())"
      ],
      "execution_count": null,
      "outputs": [
        {
          "output_type": "stream",
          "text": [
            "                            OLS Regression Results                            \n",
            "==============================================================================\n",
            "Dep. Variable:                      y   R-squared:                       0.175\n",
            "Model:                            OLS   Adj. R-squared:                 -0.155\n",
            "Method:                 Least Squares   F-statistic:                    0.5312\n",
            "Date:                Wed, 24 Mar 2021   Prob (F-statistic):              0.618\n",
            "Time:                        13:32:15   Log-Likelihood:                -29.599\n",
            "No. Observations:                   8   AIC:                             65.20\n",
            "Df Residuals:                       5   BIC:                             65.44\n",
            "Df Model:                           2                                         \n",
            "Covariance Type:            nonrobust                                         \n",
            "==============================================================================\n",
            "                 coef    std err          t      P>|t|      [0.025      0.975]\n",
            "------------------------------------------------------------------------------\n",
            "const         15.5895      8.527      1.828      0.127      -6.330      37.509\n",
            "x1             0.3093      0.346      0.894      0.412      -0.580       1.199\n",
            "x2             0.0736      0.174      0.422      0.690      -0.375       0.522\n",
            "==============================================================================\n",
            "Omnibus:                       17.368   Durbin-Watson:                   2.128\n",
            "Prob(Omnibus):                  0.000   Jarque-Bera (JB):                6.777\n",
            "Skew:                           1.929   Prob(JB):                       0.0338\n",
            "Kurtosis:                       5.334   Cond. No.                         69.1\n",
            "==============================================================================\n",
            "\n",
            "Warnings:\n",
            "[1] Standard Errors assume that the covariance matrix of the errors is correctly specified.\n"
          ],
          "name": "stdout"
        },
        {
          "output_type": "stream",
          "text": [
            "/usr/local/lib/python3.7/dist-packages/scipy/stats/stats.py:1535: UserWarning: kurtosistest only valid for n>=20 ... continuing anyway, n=8\n",
            "  \"anyway, n=%i\" % int(n))\n"
          ],
          "name": "stderr"
        }
      ]
    },
    {
      "cell_type": "code",
      "metadata": {
        "colab": {
          "base_uri": "https://localhost:8080/",
          "height": 299
        },
        "id": "lQc5uNKjbzYA",
        "outputId": "db3cbe13-529c-49f6-a8f6-d2379cf4bfde"
      },
      "source": [
        "fig = sm.graphics.influence_plot(results, criterion=\"cooks\")\n",
        "fig.tight_layout(pad=1.0)"
      ],
      "execution_count": null,
      "outputs": [
        {
          "output_type": "display_data",
          "data": {
            "image/png": "[encoded data removed]",
            "text/plain": [
              "<Figure size 432x288 with 1 Axes>"
            ]
          },
          "metadata": {
            "tags": [],
            "needs_background": "light"
          }
        }
      ]
    },
    {
      "cell_type": "code",
      "metadata": {
        "colab": {
          "base_uri": "https://localhost:8080/",
          "height": 303
        },
        "id": "zYaGqrHUcBVD",
        "outputId": "0ca93d64-698e-485a-b809-6b30d775cb65"
      },
      "source": [
        "fig = sm.graphics.plot_partregress_grid(results)\n",
        "fig.tight_layout(pad=1.0)"
      ],
      "execution_count": null,
      "outputs": [
        {
          "output_type": "display_data",
          "data": {
            "image/png": "[encoded data removed]",
            "text/plain": [
              "<Figure size 432x288 with 3 Axes>"
            ]
          },
          "metadata": {
            "tags": [],
            "needs_background": "light"
          }
        }
      ]
    }
  ]
}